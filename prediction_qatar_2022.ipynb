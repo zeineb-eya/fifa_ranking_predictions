{
 "cells": [
  {
   "cell_type": "code",
   "execution_count": null,
   "metadata": {},
   "outputs": [],
   "source": [
    "import pandas as pd\n",
    "import numpy as np"
   ]
  },
  {
   "cell_type": "code",
   "execution_count": null,
   "metadata": {},
   "outputs": [],
   "source": [
    "matches = pd.read_csv(\"results.csv\")"
   ]
  },
  {
   "cell_type": "code",
   "execution_count": null,
   "metadata": {},
   "outputs": [],
   "source": [
    "matches.head()"
   ]
  },
  {
   "cell_type": "code",
   "execution_count": null,
   "metadata": {},
   "outputs": [],
   "source": [
    "matches.shape"
   ]
  },
  {
   "cell_type": "code",
   "execution_count": null,
   "metadata": {},
   "outputs": [],
   "source": [
    "winner = []\n",
    "for i in range (len(matches['home_team'])):\n",
    "    if matches ['home_score'][i] > matches ['away_score'][i]:\n",
    "        winner.append(matches['home_team'][i])\n",
    "    elif matches['home_score'][i] < matches['away_score'][i]:\n",
    "        winner.append(matches['away_team'][i])\n",
    "    else:\n",
    "        winner.append('Draw')\n",
    "matches['winning_team'] = winner\n",
    "\n",
    "\n",
    "matches['goal_difference'] = np.absolute(matches['home_score']-matches['away_score'])\n",
    "\n",
    "matches.head()"
   ]
  },
  {
   "cell_type": "code",
   "execution_count": null,
   "metadata": {},
   "outputs": [],
   "source": [
    "#aataframe francia\n",
    "df = matches[(matches['home_team'] == 'France') | (matches['away_team'] == 'France')]\n",
    "france = df.iloc[:]\n",
    "france.head()"
   ]
  },
  {
   "cell_type": "code",
   "execution_count": null,
   "metadata": {},
   "outputs": [],
   "source": [
    "#creamos una columna para el año\n",
    "year = []\n",
    "for row in france['date']:\n",
    "    year.append(int(row[:4]))\n",
    "france['match_year'] = year\n",
    "france_1930 = france[france.match_year >= 1930]\n",
    "france_1930.count()"
   ]
  },
  {
   "cell_type": "code",
   "execution_count": null,
   "metadata": {},
   "outputs": [],
   "source": [
    "#cual es el resultado usual para Francia?\n",
    "wins = []\n",
    "for row in france_1930['winning_team']:\n",
    "    if row != 'France' and row != 'Draw':\n",
    "        wins.append('Loss')\n",
    "    else:\n",
    "        wins.append(row)\n",
    "\n",
    "winsdf = pd.DataFrame(wins, columns=['France_Results'])\n",
    "\n"
   ]
  },
  {
   "cell_type": "code",
   "execution_count": null,
   "metadata": {},
   "outputs": [],
   "source": [
    "import matplotlib.pyplot as plt\n",
    "import seaborn as sns\n",
    "import matplotlib.ticker as ticker\n",
    "import matplotlib.ticker as plticker\n",
    "from sklearn.model_selection import train_test_split\n",
    "from sklearn.linear_model import LogisticRegression"
   ]
  },
  {
   "cell_type": "code",
   "execution_count": null,
   "metadata": {},
   "outputs": [],
   "source": [
    "fig, ax = plt.subplots(1)\n",
    "fig.set_size_inches(10.7, 6.27)\n",
    "sns.set(style='darkgrid')\n",
    "sns.countplot(x='France_Results', data=winsdf)"
   ]
  },
  {
   "cell_type": "code",
   "execution_count": null,
   "metadata": {},
   "outputs": [],
   "source": [
    "#agregamos los países que participan en la copa del mundo 2022 qatar\n",
    "worldcup_teams = ['Cameroon', 'Ghana', 'Morocco', 'Senegal', 'Tunisia', 'Iran', 'Japan', 'South Korea', 'Qatar', 'Saudi Arabia', 'Australia', 'Belgium', 'Croatia', 'Denmark', 'England', 'France', 'Germany', 'Netherlands', 'Poland', 'Portugal', 'Serbia', 'Spain', 'Switzerland', 'Wales', 'Canada', 'Mexico', 'United States', 'Costa Rica', 'Argentina', 'Brazil', 'Ecuador', 'Uruguay']"
   ]
  },
  {
   "cell_type": "code",
   "execution_count": null,
   "metadata": {},
   "outputs": [],
   "source": [
    "df_teams_home = matches[matches['home_team'].isin(worldcup_teams)]\n",
    "df_teams_away = matches[matches['away_team'].isin(worldcup_teams)]"
   ]
  },
  {
   "cell_type": "code",
   "execution_count": null,
   "metadata": {},
   "outputs": [],
   "source": [
    "df_teams = pd.concat((df_teams_home, df_teams_away))\n",
    "df_teams.drop_duplicates()\n",
    "df_teams.count()"
   ]
  },
  {
   "cell_type": "code",
   "execution_count": null,
   "metadata": {},
   "outputs": [],
   "source": [
    "#filtramos partidos desde 1930\n",
    "year = []\n",
    "for row in df_teams['date']:\n",
    "    year.append(int(row[:4]))\n",
    "df_teams['match_year'] = year\n",
    "df_teams_1930 = df_teams[df_teams.match_year >= 1930]\n",
    "df_teams_1930.head()"
   ]
  },
  {
   "cell_type": "code",
   "execution_count": null,
   "metadata": {},
   "outputs": [],
   "source": [
    "#eliminamos columnas que no nos sirven\n",
    "df_teams_1930 = df_teams_1930.drop(['date', 'home_score', 'away_score', 'tournament', 'city', 'country', 'goal_difference', 'match_year'], axis=1)\n",
    "df_teams_1930.head()"
   ]
  },
  {
   "cell_type": "code",
   "execution_count": null,
   "metadata": {},
   "outputs": [],
   "source": [
    "#construcción del modelo\n",
    "#la columna de predicción mostrará 2 si el equipo de casa ganó, 1 si fue empate y 0 si ganó el visitante\n",
    "\n",
    "df_teams_1930 = df_teams_1930.reset_index(drop=True)\n",
    "df_teams_1930.loc[df_teams_1930.winning_team == df_teams_1930.home_team, 'winning_team'] = 2\n",
    "df_teams_1930.loc[df_teams_1930.winning_team == 'Draw', 'winning_team'] = 1\n",
    "df_teams_1930.loc[df_teams_1930.winning_team == df_teams_1930.away_team, 'winning_team'] = 0\n",
    "\n",
    "df_teams_1930.head()\n"
   ]
  },
  {
   "cell_type": "code",
   "execution_count": null,
   "metadata": {},
   "outputs": [],
   "source": [
    "#convertimos los equipos de casa y visitantes de variables categoricas a inputs continuos\n",
    "#obtenemos variables dummy\n",
    "final = pd.get_dummies(df_teams_1930, prefix=['home_team', 'away_team'], columns=['home_team', 'away_team'])"
   ]
  },
  {
   "cell_type": "code",
   "execution_count": null,
   "metadata": {},
   "outputs": [],
   "source": [
    "#seáramos x de ys\n",
    "X = final.drop(['winning_team'], axis=1)\n",
    "y = final[\"winning_team\"]\n",
    "y = y.astype('int')"
   ]
  },
  {
   "cell_type": "code",
   "execution_count": null,
   "metadata": {},
   "outputs": [],
   "source": [
    "#separamos train and test sets\n",
    "X_train, X_test, y_train, y_test = train_test_split(X, y, test_size=0.25, random_state=42)"
   ]
  },
  {
   "cell_type": "code",
   "execution_count": null,
   "metadata": {},
   "outputs": [],
   "source": [
    "logreg = LogisticRegression()\n",
    "logreg.fit(X_train, y_train)\n",
    "score = logreg.score(X_train, y_train)\n",
    "score2 = logreg.score(X_test, y_test)\n",
    "\n",
    "print(\"Training set accuracy: \", '%.3f'%(score))\n",
    "print(\"Test set accuracy: \", '%.3f'%(score2))"
   ]
  },
  {
   "cell_type": "code",
   "execution_count": null,
   "metadata": {},
   "outputs": [],
   "source": [
    "ranking = pd.read_csv('fifa_ranking-2022-10-06.csv')\n",
    "fixtures = pd.read_csv('results.csv')\n",
    "rankings = ranking.drop_duplicates(subset='country_full',)\n",
    "pred_set = []"
   ]
  },
  {
   "cell_type": "code",
   "execution_count": null,
   "metadata": {},
   "outputs": [],
   "source": [
    "fixtures.insert(1, 'first_position', fixtures['Home Team'].map(rankings.set_index('country_full', verify_integrity= True)['rank']))"
   ]
  },
  {
   "cell_type": "code",
   "execution_count": null,
   "metadata": {},
   "outputs": [],
   "source": [
    "fixtures.insert(2, 'second position', fixtures['Away Team'].map(rankings.set_index('country_full')['rank']))"
   ]
  },
  {
   "cell_type": "code",
   "execution_count": null,
   "metadata": {},
   "outputs": [],
   "source": [
    "fixtures = fixtures.iloc[:48, :]"
   ]
  },
  {
   "cell_type": "code",
   "execution_count": null,
   "metadata": {},
   "outputs": [],
   "source": [
    "for index, row in fixtures.iterrows():\n",
    "    if row['first_position'] > row['second position']:\n",
    "        pred_set.append({'home_team': row['Away Team'], 'away_team': row['Home Team'], 'winning_team': None})\n",
    "    else:\n",
    "        pred_set.append({'home_team': row['Home Team'], 'away_team': row['Away Team'], 'winning_team': None})\n",
    "\n",
    "pred_set = pd.DataFrame(pred_set)\n",
    "backup_pred_set = pred_set"
   ]
  },
  {
   "cell_type": "code",
   "execution_count": null,
   "metadata": {},
   "outputs": [],
   "source": [
    "print(pred_set)"
   ]
  },
  {
   "cell_type": "code",
   "execution_count": null,
   "metadata": {},
   "outputs": [],
   "source": [
    "pred_set_1 = pd.get_dummies(pred_set, prefix=['home_team', 'away_team'], columns=['home_team', 'away_team'])\n",
    "print(pred_set_1)"
   ]
  },
  {
   "cell_type": "code",
   "execution_count": null,
   "metadata": {},
   "outputs": [],
   "source": [
    "missing_cols = set(final.columns) - set(pred_set_1.columns)\n",
    "for c in missing_cols:\n",
    "    pred_set_1[c] = 0\n",
    "pred_set_1 = pred_set_1[final.columns]\n",
    "\n",
    "pred_set_1 = pred_set_1.drop(['winning_team'], axis=1)\n",
    "pred_set_1.head()"
   ]
  },
  {
   "cell_type": "code",
   "execution_count": null,
   "metadata": {},
   "outputs": [],
   "source": [
    "#matches de grupos\n",
    "predictions = logreg.predict(pred_set_1)\n",
    "for i in range(fixtures.shape[0]):\n",
    "    print(backup_pred_set.iloc[i, 1] + \" and \" + backup_pred_set.iloc[i, 0])\n",
    "    if predictions[i] == 2:\n",
    "        print(\"Winner: \" + backup_pred_set.iloc[i, 0])\n",
    "    elif predictions[i] == 1:\n",
    "        print(\"Draw\")\n",
    "    elif predictions[i] == 0:\n",
    "        print(\"Winner:\" + backup_pred_set.iloc[i, 1])\n",
    "    print('Probability of ' + backup_pred_set.iloc[i, 1] + ' winning: ', '%3f'%(logreg.predict_proba(pred_set_1)[i][2]))\n",
    "    print('Probability of Draw: ', '%3f'%(logreg.predict_proba(pred_set_1)[i][1]))\n",
    "    print('Probability of ' + backup_pred_set.iloc[i, 0] + ' winning: ', '%3f'%(logreg.predict_proba(pred_set_1)[i][0]))\n",
    "    print(\"\")"
   ]
  },
  {
   "cell_type": "code",
   "execution_count": null,
   "metadata": {},
   "outputs": [],
   "source": [
    "#lista de tuplas que pasan\n",
    "group_16 = [('Netherlands', 'Wales'), ('Argentina', 'Denmark'), ('France', 'Mexico'), ('England', 'Ecuador'), ('Germany', 'Croatia'), ('Brazil', 'Portugal'), ('Belgium', 'Spain'), ('Uruguay','Switzerland')]"
   ]
  },
  {
   "cell_type": "code",
   "execution_count": null,
   "metadata": {},
   "outputs": [],
   "source": [
    "def clean_and_predict(matches, ranking, final, logreg):\n",
    "    positions = []\n",
    "    \n",
    "    for match in matches:\n",
    "        positions.append(rankings.loc[rankings['country_full'] == match[0], 'rank'].iloc[0])\n",
    "        positions.append(rankings.loc[rankings['country_full'] == match[1], 'rank'].iloc[0])\n",
    "        \n",
    "    pred_set = []\n",
    "    \n",
    "    i = 0\n",
    "    j = 0\n",
    "    \n",
    "    while i < len(positions):\n",
    "        dict1 = {}\n",
    "        \n",
    "        if positions[i] < positions[i + 1]:\n",
    "            dict1.update({'home_team': matches[j][0], 'away_team': matches[j][1]})\n",
    "        else:\n",
    "            dict1.update({'home_team': matches[j][1], 'away_team': matches[j][0]})\n",
    "            \n",
    "        pred_set.append(dict1)\n",
    "        i += 2\n",
    "        j += 1\n",
    "        \n",
    "    \n",
    "    pred_set = pd.DataFrame(pred_set)\n",
    "    backup_pred_set = pred_set\n",
    "    \n",
    "    # Get dummy variables and drop winning_team column\n",
    "    pred_set = pd.get_dummies(pred_set, prefix=['home_team', 'away_team'], columns=['home_team', 'away_team'])\n",
    "\n",
    "    # Add missing columns compared to the model's training dataset\n",
    "    missing_cols2 = set(final.columns) - set(pred_set.columns)\n",
    "    for c in missing_cols2:\n",
    "        pred_set[c] = 0\n",
    "    pred_set = pred_set[final.columns]\n",
    "\n",
    "    # Remove winning team column\n",
    "    pred_set = pred_set.drop(['winning_team'], axis=1)\n",
    "\n",
    "    # Predict!\n",
    "    predictions = logreg.predict(pred_set)\n",
    "    for i in range(len(pred_set)):\n",
    "        print(backup_pred_set.iloc[i, 1] + \" and \" + backup_pred_set.iloc[i, 0])\n",
    "        if predictions[i] == 2:\n",
    "            print(\"Winner: \" + backup_pred_set.iloc[i, 0])\n",
    "        elif predictions[i] == 1:\n",
    "            print(\"Draw\")\n",
    "        elif predictions[i] == 0:\n",
    "            print(\"Winner: \" + backup_pred_set.iloc[i, 1])\n",
    "        print('Probability of ' + backup_pred_set.iloc[i, 1] + ' winning: ' , '%.3f'%(logreg.predict_proba(pred_set)[i][2]))\n",
    "        print('Probability of Draw: ', '%.3f'%(logreg.predict_proba(pred_set)[i][1])) \n",
    "        print('Probability of ' + backup_pred_set.iloc[i, 0] + ' winning: ', '%.3f'%(logreg.predict_proba(pred_set)[i][0]))\n",
    "        print(\"\")"
   ]
  },
  {
   "cell_type": "code",
   "execution_count": null,
   "metadata": {},
   "outputs": [],
   "source": [
    "clean_and_predict(group_16, ranking, final, logreg)\n"
   ]
  },
  {
   "cell_type": "code",
   "execution_count": null,
   "metadata": {},
   "outputs": [],
   "source": [
    "#lista de cuartos de final\n",
    "quarters = [('Argentina', 'Germany'), ('Netherlands', 'Brazil'), ('France', 'England'), ('Spain', 'Switzerland')]"
   ]
  },
  {
   "cell_type": "code",
   "execution_count": null,
   "metadata": {},
   "outputs": [],
   "source": [
    "clean_and_predict(quarters, ranking, final, logreg)"
   ]
  },
  {
   "cell_type": "code",
   "execution_count": null,
   "metadata": {},
   "outputs": [],
   "source": [
    "#lista de semis\n",
    "semi = [('Germany', 'England'), ('Brazil', 'Spain')] "
   ]
  },
  {
   "cell_type": "code",
   "execution_count": null,
   "metadata": {},
   "outputs": [],
   "source": [
    "clean_and_predict(semi, ranking, final, logreg)\n"
   ]
  },
  {
   "cell_type": "code",
   "execution_count": null,
   "metadata": {},
   "outputs": [],
   "source": [
    "# Final\n",
    "finals = [('Brazil', 'Germany')]"
   ]
  },
  {
   "cell_type": "code",
   "execution_count": null,
   "metadata": {},
   "outputs": [],
   "source": [
    "clean_and_predict(finals, ranking, final, logreg)\n"
   ]
  },
  {
   "cell_type": "code",
   "execution_count": null,
   "metadata": {},
   "outputs": [],
   "source": []
  }
 ],
 "metadata": {
  "kernelspec": {
   "display_name": "Python 3.10.8 64-bit",
   "language": "python",
   "name": "python3"
  },
  "language_info": {
   "codemirror_mode": {
    "name": "ipython",
    "version": 3
   },
   "file_extension": ".py",
   "mimetype": "text/x-python",
   "name": "python",
   "nbconvert_exporter": "python",
   "pygments_lexer": "ipython3",
   "version": "3.10.8"
  },
  "vscode": {
   "interpreter": {
    "hash": "369f2c481f4da34e4445cda3fffd2e751bd1c4d706f27375911949ba6bb62e1c"
   }
  }
 },
 "nbformat": 4,
 "nbformat_minor": 4
}
